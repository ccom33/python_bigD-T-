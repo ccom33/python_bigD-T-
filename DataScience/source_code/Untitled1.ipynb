{
 "cells": [
  {
   "cell_type": "code",
   "execution_count": 1,
   "metadata": {
    "collapsed": true
   },
   "outputs": [],
   "source": [
    "import urllib.request\n",
    "import json\n",
    "import pandas as pd\n",
    "import bs4\n"
   ]
  },
  {
   "cell_type": "code",
   "execution_count": 20,
   "metadata": {
    "scrolled": false
   },
   "outputs": [
    {
     "data": {
      "text/html": [
       "<div>\n",
       "<style>\n",
       "    .dataframe thead tr:only-child th {\n",
       "        text-align: right;\n",
       "    }\n",
       "\n",
       "    .dataframe thead th {\n",
       "        text-align: left;\n",
       "    }\n",
       "\n",
       "    .dataframe tbody tr th {\n",
       "        vertical-align: top;\n",
       "    }\n",
       "</style>\n",
       "<table border=\"1\" class=\"dataframe\">\n",
       "  <thead>\n",
       "    <tr style=\"text-align: right;\">\n",
       "      <th></th>\n",
       "      <th>AllHour</th>\n",
       "      <th>CloseCleaning</th>\n",
       "      <th>ClosePeakSeason</th>\n",
       "      <th>CloseWeekday</th>\n",
       "      <th>Delivery</th>\n",
       "      <th>DriveThrough</th>\n",
       "      <th>Morning</th>\n",
       "      <th>NewAddr</th>\n",
       "      <th>NewAddr2</th>\n",
       "      <th>OpenTime</th>\n",
       "      <th>PhoneNumber</th>\n",
       "      <th>PointX</th>\n",
       "      <th>PointY</th>\n",
       "      <th>StoreNM</th>\n",
       "      <th>StoreSQ</th>\n",
       "    </tr>\n",
       "  </thead>\n",
       "  <tbody>\n",
       "    <tr>\n",
       "      <th>0</th>\n",
       "      <td>N</td>\n",
       "      <td></td>\n",
       "      <td></td>\n",
       "      <td>22:00</td>\n",
       "      <td>Y</td>\n",
       "      <td>N</td>\n",
       "      <td>N</td>\n",
       "      <td>서울특별시 금천구 가산디지털1로</td>\n",
       "      <td>168 우림라이온스밸리 A동</td>\n",
       "      <td>09:00</td>\n",
       "      <td>02-853-0332</td>\n",
       "      <td>37.480896</td>\n",
       "      <td>126.882133</td>\n",
       "      <td>가산디지털점</td>\n",
       "      <td>1</td>\n",
       "    </tr>\n",
       "    <tr>\n",
       "      <th>1</th>\n",
       "      <td>N</td>\n",
       "      <td></td>\n",
       "      <td></td>\n",
       "      <td>22:00</td>\n",
       "      <td>Y</td>\n",
       "      <td>N</td>\n",
       "      <td>Y</td>\n",
       "      <td>서울특별시 금천구 디지털로9길 46</td>\n",
       "      <td>이앤씨드림타워7차 101호</td>\n",
       "      <td>08:00</td>\n",
       "      <td>070-7438-8601</td>\n",
       "      <td>37.480247</td>\n",
       "      <td>126.886978</td>\n",
       "      <td>가산이앤씨7점</td>\n",
       "      <td>325</td>\n",
       "    </tr>\n",
       "    <tr>\n",
       "      <th>2</th>\n",
       "      <td>N</td>\n",
       "      <td></td>\n",
       "      <td>/ 토: 10:00 ~ 23:00 / 일: 10:00 ~ 22:00</td>\n",
       "      <td>22:00 /  금: 11:00~23:00</td>\n",
       "      <td>N</td>\n",
       "      <td>N</td>\n",
       "      <td>N</td>\n",
       "      <td>서울특별시 금천구 디지털로10길</td>\n",
       "      <td>9 HYHILL 6층</td>\n",
       "      <td>월~목: 11:00</td>\n",
       "      <td>02-2136-9962</td>\n",
       "      <td>37.477620</td>\n",
       "      <td>126.889053</td>\n",
       "      <td>가산현대시티아울렛점</td>\n",
       "      <td>2</td>\n",
       "    </tr>\n",
       "    <tr>\n",
       "      <th>3</th>\n",
       "      <td>N</td>\n",
       "      <td></td>\n",
       "      <td></td>\n",
       "      <td>2018.06.29(금)</td>\n",
       "      <td>N</td>\n",
       "      <td>N</td>\n",
       "      <td>N</td>\n",
       "      <td>서울특별시 강서구 양천로</td>\n",
       "      <td>559 이마트3층 (가양동)</td>\n",
       "      <td>휴점기간 : 2018.05.27(일)</td>\n",
       "      <td>02-3664-0221</td>\n",
       "      <td>37.558193</td>\n",
       "      <td>126.861816</td>\n",
       "      <td>가양이마트점</td>\n",
       "      <td>3</td>\n",
       "    </tr>\n",
       "    <tr>\n",
       "      <th>4</th>\n",
       "      <td>N</td>\n",
       "      <td></td>\n",
       "      <td></td>\n",
       "      <td>24:00</td>\n",
       "      <td>Y</td>\n",
       "      <td>N</td>\n",
       "      <td>N</td>\n",
       "      <td>서울특별시 서대문구 북가좌동</td>\n",
       "      <td>487 성공타워 1층</td>\n",
       "      <td>09:00</td>\n",
       "      <td>02-303-0392</td>\n",
       "      <td>37.570650</td>\n",
       "      <td>126.912750</td>\n",
       "      <td>가재울뉴타운점</td>\n",
       "      <td>275</td>\n",
       "    </tr>\n",
       "  </tbody>\n",
       "</table>\n",
       "</div>"
      ],
      "text/plain": [
       "  AllHour CloseCleaning                        ClosePeakSeason  \\\n",
       "0       N                                                        \n",
       "1       N                                                        \n",
       "2       N                / 토: 10:00 ~ 23:00 / 일: 10:00 ~ 22:00   \n",
       "3       N                                                        \n",
       "4       N                                                        \n",
       "\n",
       "               CloseWeekday Delivery DriveThrough Morning  \\\n",
       "0                     22:00        Y            N       N   \n",
       "1                     22:00        Y            N       Y   \n",
       "2   22:00 /  금: 11:00~23:00        N            N       N   \n",
       "3             2018.06.29(금)        N            N       N   \n",
       "4                     24:00        Y            N       N   \n",
       "\n",
       "               NewAddr         NewAddr2              OpenTime    PhoneNumber  \\\n",
       "0   서울특별시 금천구 가산디지털1로   168 우림라이온스밸리 A동                 09:00    02-853-0332   \n",
       "1  서울특별시 금천구 디지털로9길 46   이앤씨드림타워7차 101호                 08:00  070-7438-8601   \n",
       "2    서울특별시 금천구 디지털로10길      9 HYHILL 6층            월~목: 11:00   02-2136-9962   \n",
       "3        서울특별시 강서구 양천로  559 이마트3층 (가양동)  휴점기간 : 2018.05.27(일)   02-3664-0221   \n",
       "4      서울특별시 서대문구 북가좌동      487 성공타워 1층                 09:00    02-303-0392   \n",
       "\n",
       "      PointX      PointY     StoreNM  StoreSQ  \n",
       "0  37.480896  126.882133      가산디지털점        1  \n",
       "1  37.480247  126.886978    가산이앤씨7점       325  \n",
       "2  37.477620  126.889053  가산현대시티아울렛점        2  \n",
       "3  37.558193  126.861816      가양이마트점        3  \n",
       "4  37.570650  126.912750     가재울뉴타운점      275  "
      ]
     },
     "execution_count": 20,
     "metadata": {},
     "output_type": "execute_result"
    }
   ],
   "source": [
    "response = urllib.request.urlopen('http://www.burgerking.co.kr/api/store/searchmap/empty/?areacd=')\n",
    "bgk_data = json.loads(response.read().decode('utf-8'))\n",
    "bgk_tbl = pd.DataFrame(bgk_data)\n",
    "bgk_tbl.head()"
   ]
  },
  {
   "cell_type": "code",
   "execution_count": 21,
   "metadata": {},
   "outputs": [
    {
     "data": {
      "text/html": [
       "<div>\n",
       "<style>\n",
       "    .dataframe thead tr:only-child th {\n",
       "        text-align: right;\n",
       "    }\n",
       "\n",
       "    .dataframe thead th {\n",
       "        text-align: left;\n",
       "    }\n",
       "\n",
       "    .dataframe tbody tr th {\n",
       "        vertical-align: top;\n",
       "    }\n",
       "</style>\n",
       "<table border=\"1\" class=\"dataframe\">\n",
       "  <thead>\n",
       "    <tr style=\"text-align: right;\">\n",
       "      <th></th>\n",
       "      <th>d1</th>\n",
       "      <th>d2</th>\n",
       "    </tr>\n",
       "  </thead>\n",
       "  <tbody>\n",
       "    <tr>\n",
       "      <th>0</th>\n",
       "      <td>서울특별시</td>\n",
       "      <td>금천구</td>\n",
       "    </tr>\n",
       "    <tr>\n",
       "      <th>1</th>\n",
       "      <td>서울특별시</td>\n",
       "      <td>금천구</td>\n",
       "    </tr>\n",
       "    <tr>\n",
       "      <th>2</th>\n",
       "      <td>서울특별시</td>\n",
       "      <td>금천구</td>\n",
       "    </tr>\n",
       "    <tr>\n",
       "      <th>3</th>\n",
       "      <td>서울특별시</td>\n",
       "      <td>강서구</td>\n",
       "    </tr>\n",
       "    <tr>\n",
       "      <th>4</th>\n",
       "      <td>서울특별시</td>\n",
       "      <td>서대문구</td>\n",
       "    </tr>\n",
       "  </tbody>\n",
       "</table>\n",
       "</div>"
      ],
      "text/plain": [
       "      d1    d2\n",
       "0  서울특별시   금천구\n",
       "1  서울특별시   금천구\n",
       "2  서울특별시   금천구\n",
       "3  서울특별시   강서구\n",
       "4  서울특별시  서대문구"
      ]
     },
     "execution_count": 21,
     "metadata": {},
     "output_type": "execute_result"
    }
   ],
   "source": [
    "bgk_locs = pd.DataFrame(bgk_tbl['NewAddr'].apply(lambda v: v.split()[:2]).tolist(),\n",
    "                        columns=('d1', 'd2'))\n",
    "bgk_locs.head()"
   ]
  },
  {
   "cell_type": "code",
   "execution_count": 22,
   "metadata": {},
   "outputs": [
    {
     "data": {
      "text/plain": [
       "array(['서울특별시', '서울시', '경기도', '인천시', '경상남도', '인천광역시', '강원도', '충청남도',\n",
       "       '세종특별자치시', '대전광역시', '대전시', '충청북도', '부산광역시', '부산', '울산광역시', '대구광역시',\n",
       "       '경상북도', '경남', '전라남도', '광주광역시', '전라북도', '제주특별자치도'], dtype=object)"
      ]
     },
     "execution_count": 22,
     "metadata": {},
     "output_type": "execute_result"
    }
   ],
   "source": [
    "bgk_locs['d1'].unique()"
   ]
  },
  {
   "cell_type": "code",
   "execution_count": 23,
   "metadata": {},
   "outputs": [
    {
     "data": {
      "text/plain": [
       "array(['금천구', '강서구', '서대문구', '서초구', '강남구', '구로구', '송파구', '광진구', '성북구',\n",
       "       '마포구', '노원구', '관악구', '용산구', '강동구', '동작구', '영등포구', '중구', '중랑구',\n",
       "       '양천구', '강북구', '은평구', '안산시', '도봉구', '성동구', '서구', '동대문구', '종로구',\n",
       "       '진주시', '양평군', '고양시', '과천시', '수원시', '광명시', '광주시', '구리시', '파주시',\n",
       "       '김포시', '남양주시', '동두천시', '화성시', '부천시', '성남시', '군포시', '용인시', '시흥시',\n",
       "       '안양시', '오산시', '의정부시', '이천시', '평택시', '하남시', '남구', '부평구', '송도국제대로',\n",
       "       '계양구', '남동구', '연수구', '강릉시', '홍천군', '속초시', '원주시', '춘천시', '당진시',\n",
       "       '서산시', '천안시', '보듬5로', '홍성군', '유성구', '동구', '청주시', '청원군', '진천군',\n",
       "       '충주시', None, '사하구', '금정구', '사상구', '해운대구', '동래구', '부산진구', '연제구',\n",
       "       '기장군', '수성구', '북구', '달서구', '달성군', '안동시', '상주시', '영주시', '경산시', '경주시',\n",
       "       '구미시', '김천시', '포항시', '거제시', '창원시', '사천시', '김해시', '광양시', '나주시',\n",
       "       '목포시', '순천시', '여수시', '무안군', '광산구', '군산시', '익산시', '전주시', '정읍시', '제주시'], dtype=object)"
      ]
     },
     "execution_count": 23,
     "metadata": {},
     "output_type": "execute_result"
    }
   ],
   "source": [
    "bgk_locs['d2'].unique()"
   ]
  },
  {
   "cell_type": "code",
   "execution_count": 7,
   "metadata": {
    "collapsed": true
   },
   "outputs": [],
   "source": [
    "d1_aliases = \"\"\"서울시:서울특별시 충남:충청남도 강원:강원도 경기:경기도 충북:충청북도 경남:경상남도 경북:경상북도\n",
    "전남:전라남도 전북:전라북도 제주도:제주특별자치도 제주:제주특별자치도 대전시:대전광역시 대구시:대구광역시 인천시:인천광역시\n",
    "광주시:광주광역시 울산시:울산광역시\"\"\"\n",
    "d1_aliases = dict(aliasset.split(':') for aliasset in d1_aliases.split())\n",
    "bgk_locs['d1'] = bgk_locs['d1'].apply(lambda v: d1_aliases.get(v,v))"
   ]
  },
  {
   "cell_type": "code",
   "execution_count": 13,
   "metadata": {},
   "outputs": [
    {
     "data": {
      "text/plain": [
       "array(['서울특별시', '경기도', '인천광역시', '경상남도', '강원도', '충청남도', '세종특별자치시', '대전광역시',\n",
       "       '충청북도', '부산광역시', '부산', '울산광역시', '대구광역시', '경상북도', '전라남도', '광주광역시',\n",
       "       '전라북도', '제주특별자치도'], dtype=object)"
      ]
     },
     "execution_count": 13,
     "metadata": {},
     "output_type": "execute_result"
    }
   ],
   "source": [
    "bgk_locs['d1'].unique()"
   ]
  },
  {
   "cell_type": "code",
   "execution_count": 24,
   "metadata": {
    "scrolled": true
   },
   "outputs": [
    {
     "data": {
      "text/html": [
       "<div>\n",
       "<style>\n",
       "    .dataframe thead tr:only-child th {\n",
       "        text-align: right;\n",
       "    }\n",
       "\n",
       "    .dataframe thead th {\n",
       "        text-align: left;\n",
       "    }\n",
       "\n",
       "    .dataframe tbody tr th {\n",
       "        vertical-align: top;\n",
       "    }\n",
       "</style>\n",
       "<table border=\"1\" class=\"dataframe\">\n",
       "  <thead>\n",
       "    <tr style=\"text-align: right;\">\n",
       "      <th></th>\n",
       "      <th>d1</th>\n",
       "      <th>d2</th>\n",
       "    </tr>\n",
       "  </thead>\n",
       "  <tbody>\n",
       "  </tbody>\n",
       "</table>\n",
       "</div>"
      ],
      "text/plain": [
       "Empty DataFrame\n",
       "Columns: [d1, d2]\n",
       "Index: []"
      ]
     },
     "execution_count": 24,
     "metadata": {},
     "output_type": "execute_result"
    }
   ],
   "source": [
    "bgk_locs[bgk_locs['d1'] == '수원시']"
   ]
  },
  {
   "cell_type": "code",
   "execution_count": 25,
   "metadata": {},
   "outputs": [],
   "source": [
    "bgk_locs.iloc[101] = ['경기도', '수원시']"
   ]
  },
  {
   "cell_type": "code",
   "execution_count": 26,
   "metadata": {
    "scrolled": false
   },
   "outputs": [
    {
     "data": {
      "text/plain": [
       "array(['금천구', '강서구', '서대문구', '서초구', '강남구', '구로구', '송파구', '광진구', '성북구',\n",
       "       '마포구', '노원구', '관악구', '용산구', '강동구', '동작구', '영등포구', '중구', '중랑구',\n",
       "       '양천구', '강북구', '은평구', '안산시', '도봉구', '성동구', '서구', '동대문구', '종로구',\n",
       "       '진주시', '양평군', '고양시', '수원시', '광명시', '광주시', '구리시', '파주시', '김포시',\n",
       "       '남양주시', '동두천시', '화성시', '부천시', '성남시', '군포시', '용인시', '시흥시', '안양시',\n",
       "       '오산시', '의정부시', '이천시', '평택시', '하남시', '남구', '부평구', '송도국제대로', '계양구',\n",
       "       '남동구', '연수구', '강릉시', '홍천군', '속초시', '원주시', '춘천시', '당진시', '서산시',\n",
       "       '천안시', '보듬5로', '홍성군', '유성구', '동구', '청주시', '청원군', '진천군', '충주시', None,\n",
       "       '사하구', '금정구', '사상구', '해운대구', '동래구', '부산진구', '연제구', '기장군', '수성구',\n",
       "       '북구', '달서구', '달성군', '안동시', '상주시', '영주시', '경산시', '경주시', '구미시', '김천시',\n",
       "       '포항시', '거제시', '창원시', '사천시', '김해시', '광양시', '나주시', '목포시', '순천시',\n",
       "       '여수시', '무안군', '광산구', '군산시', '익산시', '전주시', '정읍시', '제주시'], dtype=object)"
      ]
     },
     "execution_count": 26,
     "metadata": {},
     "output_type": "execute_result"
    }
   ],
   "source": [
    "bgk_locs['d2'].unique()"
   ]
  },
  {
   "cell_type": "code",
   "execution_count": 27,
   "metadata": {},
   "outputs": [
    {
     "ename": "TypeError",
     "evalue": "('must be str, not NoneType', 'occurred at index 218')",
     "output_type": "error",
     "traceback": [
      "\u001b[1;31m---------------------------------------------------------------------------\u001b[0m",
      "\u001b[1;31mTypeError\u001b[0m                                 Traceback (most recent call last)",
      "\u001b[1;32m<ipython-input-27-e0c13dc5aa9b>\u001b[0m in \u001b[0;36m<module>\u001b[1;34m()\u001b[0m\n\u001b[1;32m----> 1\u001b[1;33m \u001b[0mB\u001b[0m \u001b[1;33m=\u001b[0m \u001b[0mbgk_locs\u001b[0m\u001b[1;33m.\u001b[0m\u001b[0mapply\u001b[0m\u001b[1;33m(\u001b[0m\u001b[1;32mlambda\u001b[0m \u001b[0mr\u001b[0m\u001b[1;33m:\u001b[0m \u001b[0mr\u001b[0m\u001b[1;33m[\u001b[0m\u001b[1;34m'd1'\u001b[0m\u001b[1;33m]\u001b[0m \u001b[1;33m+\u001b[0m \u001b[1;34m' '\u001b[0m \u001b[1;33m+\u001b[0m \u001b[0mr\u001b[0m\u001b[1;33m[\u001b[0m\u001b[1;34m'd2'\u001b[0m\u001b[1;33m]\u001b[0m\u001b[1;33m,\u001b[0m \u001b[0maxis\u001b[0m\u001b[1;33m=\u001b[0m\u001b[1;36m1\u001b[0m\u001b[1;33m)\u001b[0m\u001b[1;33m.\u001b[0m\u001b[0mvalue_counts\u001b[0m\u001b[1;33m(\u001b[0m\u001b[1;33m)\u001b[0m\u001b[1;33m\u001b[0m\u001b[0m\n\u001b[0m\u001b[0;32m      2\u001b[0m \u001b[0mB\u001b[0m\u001b[1;33m.\u001b[0m\u001b[0mhead\u001b[0m\u001b[1;33m(\u001b[0m\u001b[1;33m)\u001b[0m\u001b[1;33m\u001b[0m\u001b[0m\n",
      "\u001b[1;32mD:\\anaconda\\lib\\site-packages\\pandas\\core\\frame.py\u001b[0m in \u001b[0;36mapply\u001b[1;34m(self, func, axis, broadcast, raw, reduce, args, **kwds)\u001b[0m\n\u001b[0;32m   4358\u001b[0m                         \u001b[0mf\u001b[0m\u001b[1;33m,\u001b[0m \u001b[0maxis\u001b[0m\u001b[1;33m,\u001b[0m\u001b[1;33m\u001b[0m\u001b[0m\n\u001b[0;32m   4359\u001b[0m                         \u001b[0mreduce\u001b[0m\u001b[1;33m=\u001b[0m\u001b[0mreduce\u001b[0m\u001b[1;33m,\u001b[0m\u001b[1;33m\u001b[0m\u001b[0m\n\u001b[1;32m-> 4360\u001b[1;33m                         ignore_failures=ignore_failures)\n\u001b[0m\u001b[0;32m   4361\u001b[0m             \u001b[1;32melse\u001b[0m\u001b[1;33m:\u001b[0m\u001b[1;33m\u001b[0m\u001b[0m\n\u001b[0;32m   4362\u001b[0m                 \u001b[1;32mreturn\u001b[0m \u001b[0mself\u001b[0m\u001b[1;33m.\u001b[0m\u001b[0m_apply_broadcast\u001b[0m\u001b[1;33m(\u001b[0m\u001b[0mf\u001b[0m\u001b[1;33m,\u001b[0m \u001b[0maxis\u001b[0m\u001b[1;33m)\u001b[0m\u001b[1;33m\u001b[0m\u001b[0m\n",
      "\u001b[1;32mD:\\anaconda\\lib\\site-packages\\pandas\\core\\frame.py\u001b[0m in \u001b[0;36m_apply_standard\u001b[1;34m(self, func, axis, ignore_failures, reduce)\u001b[0m\n\u001b[0;32m   4454\u001b[0m             \u001b[1;32mtry\u001b[0m\u001b[1;33m:\u001b[0m\u001b[1;33m\u001b[0m\u001b[0m\n\u001b[0;32m   4455\u001b[0m                 \u001b[1;32mfor\u001b[0m \u001b[0mi\u001b[0m\u001b[1;33m,\u001b[0m \u001b[0mv\u001b[0m \u001b[1;32min\u001b[0m \u001b[0menumerate\u001b[0m\u001b[1;33m(\u001b[0m\u001b[0mseries_gen\u001b[0m\u001b[1;33m)\u001b[0m\u001b[1;33m:\u001b[0m\u001b[1;33m\u001b[0m\u001b[0m\n\u001b[1;32m-> 4456\u001b[1;33m                     \u001b[0mresults\u001b[0m\u001b[1;33m[\u001b[0m\u001b[0mi\u001b[0m\u001b[1;33m]\u001b[0m \u001b[1;33m=\u001b[0m \u001b[0mfunc\u001b[0m\u001b[1;33m(\u001b[0m\u001b[0mv\u001b[0m\u001b[1;33m)\u001b[0m\u001b[1;33m\u001b[0m\u001b[0m\n\u001b[0m\u001b[0;32m   4457\u001b[0m                     \u001b[0mkeys\u001b[0m\u001b[1;33m.\u001b[0m\u001b[0mappend\u001b[0m\u001b[1;33m(\u001b[0m\u001b[0mv\u001b[0m\u001b[1;33m.\u001b[0m\u001b[0mname\u001b[0m\u001b[1;33m)\u001b[0m\u001b[1;33m\u001b[0m\u001b[0m\n\u001b[0;32m   4458\u001b[0m             \u001b[1;32mexcept\u001b[0m \u001b[0mException\u001b[0m \u001b[1;32mas\u001b[0m \u001b[0me\u001b[0m\u001b[1;33m:\u001b[0m\u001b[1;33m\u001b[0m\u001b[0m\n",
      "\u001b[1;32m<ipython-input-27-e0c13dc5aa9b>\u001b[0m in \u001b[0;36m<lambda>\u001b[1;34m(r)\u001b[0m\n\u001b[1;32m----> 1\u001b[1;33m \u001b[0mB\u001b[0m \u001b[1;33m=\u001b[0m \u001b[0mbgk_locs\u001b[0m\u001b[1;33m.\u001b[0m\u001b[0mapply\u001b[0m\u001b[1;33m(\u001b[0m\u001b[1;32mlambda\u001b[0m \u001b[0mr\u001b[0m\u001b[1;33m:\u001b[0m \u001b[0mr\u001b[0m\u001b[1;33m[\u001b[0m\u001b[1;34m'd1'\u001b[0m\u001b[1;33m]\u001b[0m \u001b[1;33m+\u001b[0m \u001b[1;34m' '\u001b[0m \u001b[1;33m+\u001b[0m \u001b[0mr\u001b[0m\u001b[1;33m[\u001b[0m\u001b[1;34m'd2'\u001b[0m\u001b[1;33m]\u001b[0m\u001b[1;33m,\u001b[0m \u001b[0maxis\u001b[0m\u001b[1;33m=\u001b[0m\u001b[1;36m1\u001b[0m\u001b[1;33m)\u001b[0m\u001b[1;33m.\u001b[0m\u001b[0mvalue_counts\u001b[0m\u001b[1;33m(\u001b[0m\u001b[1;33m)\u001b[0m\u001b[1;33m\u001b[0m\u001b[0m\n\u001b[0m\u001b[0;32m      2\u001b[0m \u001b[0mB\u001b[0m\u001b[1;33m.\u001b[0m\u001b[0mhead\u001b[0m\u001b[1;33m(\u001b[0m\u001b[1;33m)\u001b[0m\u001b[1;33m\u001b[0m\u001b[0m\n",
      "\u001b[1;31mTypeError\u001b[0m: ('must be str, not NoneType', 'occurred at index 218')"
     ]
    }
   ],
   "source": [
    "B = bgk_locs.apply(lambda r: r['d1'] + ' ' + r['d2'], axis=1).value_counts()\n",
    "B.head()"
   ]
  },
  {
   "cell_type": "code",
   "execution_count": null,
   "metadata": {
    "collapsed": true
   },
   "outputs": [],
   "source": []
  }
 ],
 "metadata": {
  "kernelspec": {
   "display_name": "Python 3",
   "language": "python",
   "name": "python3"
  },
  "language_info": {
   "codemirror_mode": {
    "name": "ipython",
    "version": 3
   },
   "file_extension": ".py",
   "mimetype": "text/x-python",
   "name": "python",
   "nbconvert_exporter": "python",
   "pygments_lexer": "ipython3",
   "version": "3.6.2"
  }
 },
 "nbformat": 4,
 "nbformat_minor": 2
}
