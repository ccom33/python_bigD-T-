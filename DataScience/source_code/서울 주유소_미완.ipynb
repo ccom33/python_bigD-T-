{
 "cells": [
  {
   "cell_type": "code",
   "execution_count": 5,
   "metadata": {
    "collapsed": true
   },
   "outputs": [],
   "source": [
    "import pandas as pd\n",
    "from glob import glob"
   ]
  },
  {
   "cell_type": "code",
   "execution_count": 11,
   "metadata": {},
   "outputs": [
    {
     "data": {
      "text/plain": [
       "['../data\\\\지역_위치별(주유소) (01).xls',\n",
       " '../data\\\\지역_위치별(주유소) (02).xls',\n",
       " '../data\\\\지역_위치별(주유소) (03).xls',\n",
       " '../data\\\\지역_위치별(주유소) (04).xls',\n",
       " '../data\\\\지역_위치별(주유소) (05).xls',\n",
       " '../data\\\\지역_위치별(주유소) (06).xls',\n",
       " '../data\\\\지역_위치별(주유소) (07).xls',\n",
       " '../data\\\\지역_위치별(주유소) (08).xls',\n",
       " '../data\\\\지역_위치별(주유소) (09).xls',\n",
       " '../data\\\\지역_위치별(주유소) (10).xls',\n",
       " '../data\\\\지역_위치별(주유소) (11).xls',\n",
       " '../data\\\\지역_위치별(주유소) (12).xls',\n",
       " '../data\\\\지역_위치별(주유소) (13).xls',\n",
       " '../data\\\\지역_위치별(주유소) (14).xls',\n",
       " '../data\\\\지역_위치별(주유소) (15).xls',\n",
       " '../data\\\\지역_위치별(주유소) (16).xls',\n",
       " '../data\\\\지역_위치별(주유소) (17).xls',\n",
       " '../data\\\\지역_위치별(주유소) (18).xls',\n",
       " '../data\\\\지역_위치별(주유소) (19).xls',\n",
       " '../data\\\\지역_위치별(주유소) (20).xls',\n",
       " '../data\\\\지역_위치별(주유소) (21).xls',\n",
       " '../data\\\\지역_위치별(주유소) (22).xls',\n",
       " '../data\\\\지역_위치별(주유소) (23).xls',\n",
       " '../data\\\\지역_위치별(주유소) (24).xls',\n",
       " '../data\\\\지역_위치별(주유소).xls']"
      ]
     },
     "execution_count": 11,
     "metadata": {},
     "output_type": "execute_result"
    }
   ],
   "source": [
    "glob(\"../data/지역*.xls\")"
   ]
  },
  {
   "cell_type": "code",
   "execution_count": 17,
   "metadata": {
    "collapsed": true
   },
   "outputs": [],
   "source": [
    "stations_files = glob('../data/지역*.xls')"
   ]
  },
  {
   "cell_type": "code",
   "execution_count": 18,
   "metadata": {},
   "outputs": [],
   "source": [
    "tmp_raw = []\n",
    "\n",
    "for file_name in stations_files:\n",
    "    tmp = pd.read_excel(file_name, header=2)\n",
    "    tmp_raw.append(tmp)\n",
    "    \n",
    "station_raw = pd.concat(tmp_raw)"
   ]
  },
  {
   "cell_type": "code",
   "execution_count": 19,
   "metadata": {},
   "outputs": [
    {
     "name": "stdout",
     "output_type": "stream",
     "text": [
      "<class 'pandas.core.frame.DataFrame'>\n",
      "Int64Index: 537 entries, 0 to 45\n",
      "Data columns (total 10 columns):\n",
      "지역       537 non-null object\n",
      "상호       537 non-null object\n",
      "주소       537 non-null object\n",
      "상표       537 non-null object\n",
      "전화번호     537 non-null object\n",
      "셀프여부     537 non-null object\n",
      "고급휘발유    537 non-null object\n",
      "휘발유      537 non-null object\n",
      "경유       537 non-null object\n",
      "실내등유     537 non-null object\n",
      "dtypes: object(10)\n",
      "memory usage: 46.1+ KB\n"
     ]
    }
   ],
   "source": [
    "station_raw.info()\n"
   ]
  },
  {
   "cell_type": "code",
   "execution_count": 20,
   "metadata": {},
   "outputs": [
    {
     "data": {
      "text/html": [
       "<div>\n",
       "<style>\n",
       "    .dataframe thead tr:only-child th {\n",
       "        text-align: right;\n",
       "    }\n",
       "\n",
       "    .dataframe thead th {\n",
       "        text-align: left;\n",
       "    }\n",
       "\n",
       "    .dataframe tbody tr th {\n",
       "        vertical-align: top;\n",
       "    }\n",
       "</style>\n",
       "<table border=\"1\" class=\"dataframe\">\n",
       "  <thead>\n",
       "    <tr style=\"text-align: right;\">\n",
       "      <th></th>\n",
       "      <th>지역</th>\n",
       "      <th>상호</th>\n",
       "      <th>주소</th>\n",
       "      <th>상표</th>\n",
       "      <th>전화번호</th>\n",
       "      <th>셀프여부</th>\n",
       "      <th>고급휘발유</th>\n",
       "      <th>휘발유</th>\n",
       "      <th>경유</th>\n",
       "      <th>실내등유</th>\n",
       "    </tr>\n",
       "  </thead>\n",
       "  <tbody>\n",
       "    <tr>\n",
       "      <th>0</th>\n",
       "      <td>서울특별시</td>\n",
       "      <td>오렌지주유소</td>\n",
       "      <td>서울 강동구 성안로 102 (성내동)</td>\n",
       "      <td>SK에너지</td>\n",
       "      <td>02-484-6165</td>\n",
       "      <td>N</td>\n",
       "      <td>-</td>\n",
       "      <td>1554</td>\n",
       "      <td>1354</td>\n",
       "      <td>997</td>\n",
       "    </tr>\n",
       "    <tr>\n",
       "      <th>1</th>\n",
       "      <td>서울특별시</td>\n",
       "      <td>구천면주유소</td>\n",
       "      <td>서울 강동구 구천면로 357 (암사동)</td>\n",
       "      <td>현대오일뱅크</td>\n",
       "      <td>02-441-0536</td>\n",
       "      <td>N</td>\n",
       "      <td>-</td>\n",
       "      <td>1556</td>\n",
       "      <td>1355</td>\n",
       "      <td>-</td>\n",
       "    </tr>\n",
       "    <tr>\n",
       "      <th>2</th>\n",
       "      <td>서울특별시</td>\n",
       "      <td>GS칼텍스㈜직영 신월주유소</td>\n",
       "      <td>서울 강동구 양재대로 1323 (성내동)</td>\n",
       "      <td>GS칼텍스</td>\n",
       "      <td>02-475-2600</td>\n",
       "      <td>N</td>\n",
       "      <td>1855</td>\n",
       "      <td>1559</td>\n",
       "      <td>1349</td>\n",
       "      <td>1000</td>\n",
       "    </tr>\n",
       "    <tr>\n",
       "      <th>3</th>\n",
       "      <td>서울특별시</td>\n",
       "      <td>광성주유소</td>\n",
       "      <td>서울 강동구 올림픽로 673 (천호동)</td>\n",
       "      <td>S-OIL</td>\n",
       "      <td>02-470-5133</td>\n",
       "      <td>N</td>\n",
       "      <td>-</td>\n",
       "      <td>1578</td>\n",
       "      <td>1388</td>\n",
       "      <td>1100</td>\n",
       "    </tr>\n",
       "    <tr>\n",
       "      <th>4</th>\n",
       "      <td>서울특별시</td>\n",
       "      <td>(주)소모에너지엔테크놀러지성내주유소</td>\n",
       "      <td>서울 강동구 올림픽로 578 (성내동)</td>\n",
       "      <td>GS칼텍스</td>\n",
       "      <td>02-479-3838</td>\n",
       "      <td>Y</td>\n",
       "      <td>-</td>\n",
       "      <td>1588</td>\n",
       "      <td>1388</td>\n",
       "      <td>-</td>\n",
       "    </tr>\n",
       "  </tbody>\n",
       "</table>\n",
       "</div>"
      ],
      "text/plain": [
       "      지역                   상호                      주소      상표         전화번호  \\\n",
       "0  서울특별시               오렌지주유소    서울 강동구 성안로 102 (성내동)   SK에너지  02-484-6165   \n",
       "1  서울특별시               구천면주유소   서울 강동구 구천면로 357 (암사동)  현대오일뱅크  02-441-0536   \n",
       "2  서울특별시       GS칼텍스㈜직영 신월주유소  서울 강동구 양재대로 1323 (성내동)   GS칼텍스  02-475-2600   \n",
       "3  서울특별시                광성주유소   서울 강동구 올림픽로 673 (천호동)   S-OIL  02-470-5133   \n",
       "4  서울특별시  (주)소모에너지엔테크놀러지성내주유소   서울 강동구 올림픽로 578 (성내동)   GS칼텍스  02-479-3838   \n",
       "\n",
       "  셀프여부 고급휘발유   휘발유    경유  실내등유  \n",
       "0    N     -  1554  1354   997  \n",
       "1    N     -  1556  1355     -  \n",
       "2    N  1855  1559  1349  1000  \n",
       "3    N     -  1578  1388  1100  \n",
       "4    Y     -  1588  1388     -  "
      ]
     },
     "execution_count": 20,
     "metadata": {},
     "output_type": "execute_result"
    }
   ],
   "source": [
    "station_raw.head()"
   ]
  },
  {
   "cell_type": "code",
   "execution_count": 21,
   "metadata": {
    "scrolled": true
   },
   "outputs": [
    {
     "data": {
      "text/html": [
       "<div>\n",
       "<style>\n",
       "    .dataframe thead tr:only-child th {\n",
       "        text-align: right;\n",
       "    }\n",
       "\n",
       "    .dataframe thead th {\n",
       "        text-align: left;\n",
       "    }\n",
       "\n",
       "    .dataframe tbody tr th {\n",
       "        vertical-align: top;\n",
       "    }\n",
       "</style>\n",
       "<table border=\"1\" class=\"dataframe\">\n",
       "  <thead>\n",
       "    <tr style=\"text-align: right;\">\n",
       "      <th></th>\n",
       "      <th>Oil_store</th>\n",
       "      <th>가격</th>\n",
       "      <th>상표</th>\n",
       "      <th>셀프</th>\n",
       "      <th>주소</th>\n",
       "    </tr>\n",
       "  </thead>\n",
       "  <tbody>\n",
       "    <tr>\n",
       "      <th>0</th>\n",
       "      <td>오렌지주유소</td>\n",
       "      <td>1554</td>\n",
       "      <td>SK에너지</td>\n",
       "      <td>N</td>\n",
       "      <td>서울 강동구 성안로 102 (성내동)</td>\n",
       "    </tr>\n",
       "    <tr>\n",
       "      <th>1</th>\n",
       "      <td>구천면주유소</td>\n",
       "      <td>1556</td>\n",
       "      <td>현대오일뱅크</td>\n",
       "      <td>N</td>\n",
       "      <td>서울 강동구 구천면로 357 (암사동)</td>\n",
       "    </tr>\n",
       "    <tr>\n",
       "      <th>2</th>\n",
       "      <td>GS칼텍스㈜직영 신월주유소</td>\n",
       "      <td>1559</td>\n",
       "      <td>GS칼텍스</td>\n",
       "      <td>N</td>\n",
       "      <td>서울 강동구 양재대로 1323 (성내동)</td>\n",
       "    </tr>\n",
       "    <tr>\n",
       "      <th>3</th>\n",
       "      <td>광성주유소</td>\n",
       "      <td>1578</td>\n",
       "      <td>S-OIL</td>\n",
       "      <td>N</td>\n",
       "      <td>서울 강동구 올림픽로 673 (천호동)</td>\n",
       "    </tr>\n",
       "    <tr>\n",
       "      <th>4</th>\n",
       "      <td>(주)소모에너지엔테크놀러지성내주유소</td>\n",
       "      <td>1588</td>\n",
       "      <td>GS칼텍스</td>\n",
       "      <td>Y</td>\n",
       "      <td>서울 강동구 올림픽로 578 (성내동)</td>\n",
       "    </tr>\n",
       "  </tbody>\n",
       "</table>\n",
       "</div>"
      ],
      "text/plain": [
       "             Oil_store    가격      상표 셀프                      주소\n",
       "0               오렌지주유소  1554   SK에너지  N    서울 강동구 성안로 102 (성내동)\n",
       "1               구천면주유소  1556  현대오일뱅크  N   서울 강동구 구천면로 357 (암사동)\n",
       "2       GS칼텍스㈜직영 신월주유소  1559   GS칼텍스  N  서울 강동구 양재대로 1323 (성내동)\n",
       "3                광성주유소  1578   S-OIL  N   서울 강동구 올림픽로 673 (천호동)\n",
       "4  (주)소모에너지엔테크놀러지성내주유소  1588   GS칼텍스  Y   서울 강동구 올림픽로 578 (성내동)"
      ]
     },
     "execution_count": 21,
     "metadata": {},
     "output_type": "execute_result"
    }
   ],
   "source": [
    "stations = pd.DataFrame({'Oil_store':station_raw['상호'],\n",
    "                              '주소':station_raw['주소'],\n",
    "                              '가격':station_raw['휘발유'],\n",
    "                              '셀프':station_raw['셀프여부'],\n",
    "                              '상표':station_raw['상표']  })\n",
    "\n",
    "stations.head()"
   ]
  },
  {
   "cell_type": "code",
   "execution_count": null,
   "metadata": {
    "collapsed": true
   },
   "outputs": [],
   "source": []
  }
 ],
 "metadata": {
  "kernelspec": {
   "display_name": "Python 3",
   "language": "python",
   "name": "python3"
  },
  "language_info": {
   "codemirror_mode": {
    "name": "ipython",
    "version": 3
   },
   "file_extension": ".py",
   "mimetype": "text/x-python",
   "name": "python",
   "nbconvert_exporter": "python",
   "pygments_lexer": "ipython3",
   "version": "3.6.2"
  }
 },
 "nbformat": 4,
 "nbformat_minor": 2
}
